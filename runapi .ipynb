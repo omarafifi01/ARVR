{
  "nbformat": 4,
  "nbformat_minor": 0,
  "metadata": {
    "colab": {
      "provenance": [],
      "mount_file_id": "1Z5plxJFS6aD7FBm-xNPULMGDm9JNW8Tm",
      "authorship_tag": "ABX9TyNF7s/4toNeh6tn94KuH6qw",
      "include_colab_link": true
    },
    "kernelspec": {
      "name": "python3",
      "display_name": "Python 3"
    },
    "language_info": {
      "name": "python"
    },
    "widgets": {
      "application/vnd.jupyter.widget-state+json": {
        "decd08e04b8c44bcbc3c8f20e711bd02": {
          "model_module": "@jupyter-widgets/controls",
          "model_name": "HBoxModel",
          "model_module_version": "1.5.0",
          "state": {
            "_dom_classes": [],
            "_model_module": "@jupyter-widgets/controls",
            "_model_module_version": "1.5.0",
            "_model_name": "HBoxModel",
            "_view_count": null,
            "_view_module": "@jupyter-widgets/controls",
            "_view_module_version": "1.5.0",
            "_view_name": "HBoxView",
            "box_style": "",
            "children": [
              "IPY_MODEL_60e2dd1a0f5344ccabb86b4d364761c9",
              "IPY_MODEL_2798ec26e08b4863af0e29a5de806d34",
              "IPY_MODEL_37a4135b55ce474f89b601033245bc67"
            ],
            "layout": "IPY_MODEL_feb887d16d4749a48c43e26ad8579e7e"
          }
        },
        "60e2dd1a0f5344ccabb86b4d364761c9": {
          "model_module": "@jupyter-widgets/controls",
          "model_name": "HTMLModel",
          "model_module_version": "1.5.0",
          "state": {
            "_dom_classes": [],
            "_model_module": "@jupyter-widgets/controls",
            "_model_module_version": "1.5.0",
            "_model_name": "HTMLModel",
            "_view_count": null,
            "_view_module": "@jupyter-widgets/controls",
            "_view_module_version": "1.5.0",
            "_view_name": "HTMLView",
            "description": "",
            "description_tooltip": null,
            "layout": "IPY_MODEL_f10363a847c147bcbfd14b3401d39fd7",
            "placeholder": "​",
            "style": "IPY_MODEL_b5c7f34b1e9d452682146ab420b8a161",
            "value": "theme_schema%400.0.3.json: "
          }
        },
        "2798ec26e08b4863af0e29a5de806d34": {
          "model_module": "@jupyter-widgets/controls",
          "model_name": "FloatProgressModel",
          "model_module_version": "1.5.0",
          "state": {
            "_dom_classes": [],
            "_model_module": "@jupyter-widgets/controls",
            "_model_module_version": "1.5.0",
            "_model_name": "FloatProgressModel",
            "_view_count": null,
            "_view_module": "@jupyter-widgets/controls",
            "_view_module_version": "1.5.0",
            "_view_name": "ProgressView",
            "bar_style": "success",
            "description": "",
            "description_tooltip": null,
            "layout": "IPY_MODEL_f103d8b3c4fa41dbae7322f3695e1691",
            "max": 1,
            "min": 0,
            "orientation": "horizontal",
            "style": "IPY_MODEL_ec9fd7b6bec745f6a584ad877c4493cd",
            "value": 1
          }
        },
        "37a4135b55ce474f89b601033245bc67": {
          "model_module": "@jupyter-widgets/controls",
          "model_name": "HTMLModel",
          "model_module_version": "1.5.0",
          "state": {
            "_dom_classes": [],
            "_model_module": "@jupyter-widgets/controls",
            "_model_module_version": "1.5.0",
            "_model_name": "HTMLModel",
            "_view_count": null,
            "_view_module": "@jupyter-widgets/controls",
            "_view_module_version": "1.5.0",
            "_view_name": "HTMLView",
            "description": "",
            "description_tooltip": null,
            "layout": "IPY_MODEL_b0aa07b631ad4de99e4dbb3d5bfb72a6",
            "placeholder": "​",
            "style": "IPY_MODEL_1a85451aae924c439a3bf19eb0f59b52",
            "value": " 13.1k/? [00:00&lt;00:00, 961kB/s]"
          }
        },
        "feb887d16d4749a48c43e26ad8579e7e": {
          "model_module": "@jupyter-widgets/base",
          "model_name": "LayoutModel",
          "model_module_version": "1.2.0",
          "state": {
            "_model_module": "@jupyter-widgets/base",
            "_model_module_version": "1.2.0",
            "_model_name": "LayoutModel",
            "_view_count": null,
            "_view_module": "@jupyter-widgets/base",
            "_view_module_version": "1.2.0",
            "_view_name": "LayoutView",
            "align_content": null,
            "align_items": null,
            "align_self": null,
            "border": null,
            "bottom": null,
            "display": null,
            "flex": null,
            "flex_flow": null,
            "grid_area": null,
            "grid_auto_columns": null,
            "grid_auto_flow": null,
            "grid_auto_rows": null,
            "grid_column": null,
            "grid_gap": null,
            "grid_row": null,
            "grid_template_areas": null,
            "grid_template_columns": null,
            "grid_template_rows": null,
            "height": null,
            "justify_content": null,
            "justify_items": null,
            "left": null,
            "margin": null,
            "max_height": null,
            "max_width": null,
            "min_height": null,
            "min_width": null,
            "object_fit": null,
            "object_position": null,
            "order": null,
            "overflow": null,
            "overflow_x": null,
            "overflow_y": null,
            "padding": null,
            "right": null,
            "top": null,
            "visibility": null,
            "width": null
          }
        },
        "f10363a847c147bcbfd14b3401d39fd7": {
          "model_module": "@jupyter-widgets/base",
          "model_name": "LayoutModel",
          "model_module_version": "1.2.0",
          "state": {
            "_model_module": "@jupyter-widgets/base",
            "_model_module_version": "1.2.0",
            "_model_name": "LayoutModel",
            "_view_count": null,
            "_view_module": "@jupyter-widgets/base",
            "_view_module_version": "1.2.0",
            "_view_name": "LayoutView",
            "align_content": null,
            "align_items": null,
            "align_self": null,
            "border": null,
            "bottom": null,
            "display": null,
            "flex": null,
            "flex_flow": null,
            "grid_area": null,
            "grid_auto_columns": null,
            "grid_auto_flow": null,
            "grid_auto_rows": null,
            "grid_column": null,
            "grid_gap": null,
            "grid_row": null,
            "grid_template_areas": null,
            "grid_template_columns": null,
            "grid_template_rows": null,
            "height": null,
            "justify_content": null,
            "justify_items": null,
            "left": null,
            "margin": null,
            "max_height": null,
            "max_width": null,
            "min_height": null,
            "min_width": null,
            "object_fit": null,
            "object_position": null,
            "order": null,
            "overflow": null,
            "overflow_x": null,
            "overflow_y": null,
            "padding": null,
            "right": null,
            "top": null,
            "visibility": null,
            "width": null
          }
        },
        "b5c7f34b1e9d452682146ab420b8a161": {
          "model_module": "@jupyter-widgets/controls",
          "model_name": "DescriptionStyleModel",
          "model_module_version": "1.5.0",
          "state": {
            "_model_module": "@jupyter-widgets/controls",
            "_model_module_version": "1.5.0",
            "_model_name": "DescriptionStyleModel",
            "_view_count": null,
            "_view_module": "@jupyter-widgets/base",
            "_view_module_version": "1.2.0",
            "_view_name": "StyleView",
            "description_width": ""
          }
        },
        "f103d8b3c4fa41dbae7322f3695e1691": {
          "model_module": "@jupyter-widgets/base",
          "model_name": "LayoutModel",
          "model_module_version": "1.2.0",
          "state": {
            "_model_module": "@jupyter-widgets/base",
            "_model_module_version": "1.2.0",
            "_model_name": "LayoutModel",
            "_view_count": null,
            "_view_module": "@jupyter-widgets/base",
            "_view_module_version": "1.2.0",
            "_view_name": "LayoutView",
            "align_content": null,
            "align_items": null,
            "align_self": null,
            "border": null,
            "bottom": null,
            "display": null,
            "flex": null,
            "flex_flow": null,
            "grid_area": null,
            "grid_auto_columns": null,
            "grid_auto_flow": null,
            "grid_auto_rows": null,
            "grid_column": null,
            "grid_gap": null,
            "grid_row": null,
            "grid_template_areas": null,
            "grid_template_columns": null,
            "grid_template_rows": null,
            "height": null,
            "justify_content": null,
            "justify_items": null,
            "left": null,
            "margin": null,
            "max_height": null,
            "max_width": null,
            "min_height": null,
            "min_width": null,
            "object_fit": null,
            "object_position": null,
            "order": null,
            "overflow": null,
            "overflow_x": null,
            "overflow_y": null,
            "padding": null,
            "right": null,
            "top": null,
            "visibility": null,
            "width": "20px"
          }
        },
        "ec9fd7b6bec745f6a584ad877c4493cd": {
          "model_module": "@jupyter-widgets/controls",
          "model_name": "ProgressStyleModel",
          "model_module_version": "1.5.0",
          "state": {
            "_model_module": "@jupyter-widgets/controls",
            "_model_module_version": "1.5.0",
            "_model_name": "ProgressStyleModel",
            "_view_count": null,
            "_view_module": "@jupyter-widgets/base",
            "_view_module_version": "1.2.0",
            "_view_name": "StyleView",
            "bar_color": null,
            "description_width": ""
          }
        },
        "b0aa07b631ad4de99e4dbb3d5bfb72a6": {
          "model_module": "@jupyter-widgets/base",
          "model_name": "LayoutModel",
          "model_module_version": "1.2.0",
          "state": {
            "_model_module": "@jupyter-widgets/base",
            "_model_module_version": "1.2.0",
            "_model_name": "LayoutModel",
            "_view_count": null,
            "_view_module": "@jupyter-widgets/base",
            "_view_module_version": "1.2.0",
            "_view_name": "LayoutView",
            "align_content": null,
            "align_items": null,
            "align_self": null,
            "border": null,
            "bottom": null,
            "display": null,
            "flex": null,
            "flex_flow": null,
            "grid_area": null,
            "grid_auto_columns": null,
            "grid_auto_flow": null,
            "grid_auto_rows": null,
            "grid_column": null,
            "grid_gap": null,
            "grid_row": null,
            "grid_template_areas": null,
            "grid_template_columns": null,
            "grid_template_rows": null,
            "height": null,
            "justify_content": null,
            "justify_items": null,
            "left": null,
            "margin": null,
            "max_height": null,
            "max_width": null,
            "min_height": null,
            "min_width": null,
            "object_fit": null,
            "object_position": null,
            "order": null,
            "overflow": null,
            "overflow_x": null,
            "overflow_y": null,
            "padding": null,
            "right": null,
            "top": null,
            "visibility": null,
            "width": null
          }
        },
        "1a85451aae924c439a3bf19eb0f59b52": {
          "model_module": "@jupyter-widgets/controls",
          "model_name": "DescriptionStyleModel",
          "model_module_version": "1.5.0",
          "state": {
            "_model_module": "@jupyter-widgets/controls",
            "_model_module_version": "1.5.0",
            "_model_name": "DescriptionStyleModel",
            "_view_count": null,
            "_view_module": "@jupyter-widgets/base",
            "_view_module_version": "1.2.0",
            "_view_name": "StyleView",
            "description_width": ""
          }
        }
      }
    }
  },
  "cells": [
    {
      "cell_type": "markdown",
      "metadata": {
        "id": "view-in-github",
        "colab_type": "text"
      },
      "source": [
        "<a href=\"https://colab.research.google.com/github/omarafifi01/ARVR/blob/main/runapi%20.ipynb\" target=\"_parent\"><img src=\"https://colab.research.google.com/assets/colab-badge.svg\" alt=\"Open In Colab\"/></a>"
      ]
    },
    {
      "cell_type": "code",
      "execution_count": 6,
      "metadata": {
        "colab": {
          "base_uri": "https://localhost:8080/"
        },
        "id": "pxxvPRQb1Xpg",
        "outputId": "5de6b80c-10ae-4051-ee8b-e41cd1b8996a"
      },
      "outputs": [
        {
          "output_type": "stream",
          "name": "stdout",
          "text": [
            "Drive already mounted at /content/drive; to attempt to forcibly remount, call drive.mount(\"/content/drive\", force_remount=True).\n",
            "PWD: /content/drive/MyDrive/telco_churn_api\n",
            "total 6.7M\n",
            "-rw------- 1 root root 8.0K Aug 17 16:23 app.py\n",
            "-rw------- 1 root root 2.2K Aug 16 14:02 feature_schema.json\n",
            "-rw------- 1 root root 1.7M Aug 16 14:02 lgbm_model.pkl\n",
            "-rw------- 1 root root 5.0M Aug 16 14:02 pipeline.pkl\n",
            "drwx------ 2 root root 4.0K Aug 17 16:25 __pycache__\n",
            "-rw------- 1 root root  13K Aug 16 14:02 requirements.txt\n",
            "-rw------- 1 root root  195 Aug 17 16:25 server.log\n",
            "-rw------- 1 root root   34 Aug 16 14:02 threshold.json\n"
          ]
        }
      ],
      "source": [
        "from google.colab import drive; drive.mount('/content/drive')\n",
        "\n",
        "\n",
        "WORK = \"/content/drive/MyDrive/telco_churn_api\"\n",
        "NB    = \"/content/drive/MyDrive/Untitled18.ipynb\"\n",
        "\n",
        "import os, textwrap, json, time, sys, traceback, requests\n",
        "os.chdir(WORK)\n",
        "print(\"PWD:\", os.getcwd())\n",
        "!ls -lh\n"
      ]
    },
    {
      "cell_type": "code",
      "source": [
        "import traceback, importlib\n",
        "try:\n",
        "    import app\n",
        "    importlib.reload(app)\n",
        "    print(\"✅ app.py imports OK\")\n",
        "except Exception:\n",
        "    print(\"❌ Import failed. Traceback below:\")\n",
        "    traceback.print_exc()\n"
      ],
      "metadata": {
        "colab": {
          "base_uri": "https://localhost:8080/"
        },
        "id": "iohk0OFo2avD",
        "outputId": "ff32c63e-8318-4408-ed69-3af742506d5e"
      },
      "execution_count": 8,
      "outputs": [
        {
          "output_type": "stream",
          "name": "stdout",
          "text": [
            "✅ app.py imports OK\n"
          ]
        }
      ]
    },
    {
      "cell_type": "code",
      "source": [
        "!pkill -f \"uvicorn\" || true\n",
        "!nohup uvicorn app:app --host 0.0.0.0 --port 8000 --log-level debug > server.log 2>&1 &\n",
        "!sleep 2\n",
        "!tail -n 120 server.log\n"
      ],
      "metadata": {
        "colab": {
          "base_uri": "https://localhost:8080/"
        },
        "id": "aV-t4EzR2egu",
        "outputId": "007a1639-c2ec-4fa0-def5-3c99767da3ae"
      },
      "execution_count": 9,
      "outputs": [
        {
          "output_type": "stream",
          "name": "stdout",
          "text": [
            "^C\n",
            "\u0000\u0000\u0000\u0000\u0000\u0000\u0000\u0000\u0000\u0000\u0000\u0000\u0000\u0000\u0000\u0000\u0000\u0000\u0000\u0000\u0000\u0000\u0000\u0000\u0000\u0000\u0000\u0000\u0000\u0000\u0000\u0000\u0000\u0000\u0000\u0000\u0000\u0000\u0000\u0000\u0000\u0000\u0000\u0000\u0000\u0000\u0000\u0000\u0000\u0000\u0000\u0000\u0000\u0000\u0000\u0000\u0000\u0000\u0000\u0000\u0000\u0000\u0000\u0000\u0000\u0000\u0000\u0000\u0000\u0000\u0000\u0000\u0000\u0000\u0000\u0000\u0000\u0000\u0000\u0000\u0000\u0000\u0000\u0000\u0000\u0000\u0000\u0000\u0000\u0000\u0000\u0000\u0000\u0000\u0000\u0000\u0000\u0000\u0000\u0000\u0000\u0000\u0000\u0000\u0000\u0000\u0000\u0000\u0000\u0000\u0000\u0000\u0000\u0000\u0000\u0000\u0000\u0000\u0000\u0000\u0000\u0000\u0000\u0000\u0000\u0000\u0000\u0000\u0000\u0000\u0000\u0000\u0000\u0000\u0000\u0000\u0000\u0000\u0000\u0000\u0000\u0000\u0000\u0000\u0000\u0000\u0000\u0000\u0000\u0000\u0000\u0000\u0000\u0000\u0000\u0000\u0000\u0000\u0000\u0000\u0000\u0000\u0000\u0000\u0000\u0000\u0000\u0000\u0000\u0000\u0000\u0000\u0000\u0000\u0000\u0000\u0000\u0000\u0000\u0000\u0000\u0000\u0000\u0000\u0000\u0000\u0000\u0000\u0000\u0000\u0000\u0000\u0000\u0000\u0000\u0000\u0000\u0000\u0000\u0000\u0000\u0000\u0000\u0000\u0000\u0000\u0000\u0000\u0000\u0000\u0000\u0000\u0000\u0000\u0000\u0000\u0000\u0000\u0000INFO:     Waiting for application shutdown.\n",
            "INFO:     Application shutdown complete.\n",
            "INFO:     Finished server process [1555]\n"
          ]
        }
      ]
    },
    {
      "cell_type": "code",
      "source": [
        "import requests, pprint, time\n",
        "BASE = \"http://127.0.0.1:8000\"\n",
        "\n",
        "def safe_get(url):\n",
        "    try:\n",
        "        r = requests.get(url, timeout=5)\n",
        "        print(url, \"->\", r.status_code, r.text[:120])\n",
        "        return r\n",
        "    except Exception as e:\n",
        "        print(url, \"-> ERROR:\", repr(e))\n",
        "\n",
        "print(\"health:\")\n",
        "safe_get(BASE + \"/healthz\")\n",
        "\n",
        "print(\"\\nschema (first few names):\")\n",
        "r = safe_get(BASE + \"/schema\")\n",
        "schema = r.json() if r and r.ok else []\n",
        "\n",
        "def find_key(part):\n",
        "    part = part.lower()\n",
        "    for s in schema:\n",
        "        if part in s[\"name\"].lower():\n",
        "            return s[\"name\"]\n",
        "    return None\n",
        "\n",
        "k_tenure   = find_key(\"tenure\")\n",
        "k_monthly  = find_key(\"monthly\")   # e.g., MonthlyCharges\n",
        "k_contract = find_key(\"contract\")\n",
        "k_internet = find_key(\"internet\")\n",
        "k_payment  = find_key(\"payment\")\n",
        "\n",
        "example = {s[\"name\"]: (0 if s[\"type\"]==\"number\" else (s.get(\"allowed\",[None])[0] or None)) for s in schema}\n",
        "if k_tenure:   example[k_tenure]   = 2\n",
        "if k_monthly:  example[k_monthly]  = 95\n",
        "if k_contract: example[k_contract] = \"Month-to-month\"\n",
        "if k_internet: example[k_internet] = \"Fiber optic\"\n",
        "if k_payment:  example[k_payment]  = \"Electronic check\"\n",
        "\n",
        "print(\"\\n/predict:\")\n",
        "try:\n",
        "    pr = requests.post(BASE + \"/predict\", json=example, timeout=10)\n",
        "    print(\"status:\", pr.status_code); pprint.pp(pr.json())\n",
        "except Exception as e:\n",
        "    print(\"predict error:\", repr(e))\n",
        "\n",
        "print(\"\\n/chat:\")\n",
        "msg = \"Month-to-month plan, fiber optic internet, electronic check, ~$95 monthly, tenure 5 months.\"\n",
        "try:\n",
        "    cr = requests.post(BASE + \"/chat\", json={\"text\": msg}, timeout=20)\n",
        "    print(\"status:\", cr.status_code); pprint.pp(cr.json())\n",
        "except Exception as e:\n",
        "    print(\"chat error:\", repr(e))\n"
      ],
      "metadata": {
        "colab": {
          "base_uri": "https://localhost:8080/"
        },
        "id": "nTxcrZUL7-w7",
        "outputId": "086ab345-55ef-4ab5-9f13-7f9d7351b7e1"
      },
      "execution_count": 11,
      "outputs": [
        {
          "output_type": "stream",
          "name": "stdout",
          "text": [
            "health:\n",
            "http://127.0.0.1:8000/healthz -> 200 {\"ok\":true}\n",
            "\n",
            "schema (first few names):\n",
            "http://127.0.0.1:8000/schema -> 200 [{\"name\":\"tenure\",\"type\":\"number\"},{\"name\":\"MonthlyCharges\",\"type\":\"number\"},{\"name\":\"TotalCharges\",\"type\":\"number\"},{\"n\n",
            "\n",
            "/predict:\n",
            "status: 200\n",
            "{'probability': 0.7592077479553313,\n",
            " 'label': 'Churn',\n",
            " 'decision_threshold': 0.25485902895105866,\n",
            " 'top_factors': [{'feature': 'TotalCharges', 'impact': 1.3105576566434203},\n",
            "                 {'feature': 'Contract_Month-to-month',\n",
            "                  'impact': 1.3034128664391895},\n",
            "                 {'feature': 'tenure', 'impact': 1.1953321912410255},\n",
            "                 {'feature': 'MonthlyCharges', 'impact': 0.4252197230705853},\n",
            "                 {'feature': 'Paperless_Billing_No',\n",
            "                  'impact': -0.28350285585770135}]}\n",
            "\n",
            "/chat:\n",
            "status: 200\n",
            "{'answer': 'Estimated churn risk: 65%. Threshold: 25%.',\n",
            " 'why_top_factors': 'tenure (+1.22); Contract_Month-to-month (+1.02); '\n",
            "                    'MonthlyCharges (+0.30); Contract_Two year (+0.30); '\n",
            "                    'TotalCharges (+0.26)',\n",
            " 'next_best_action': 'Offer 1-year discount & auto-pay',\n",
            " 'raw': {'inputs': {'tenure': 5,\n",
            "                    'MonthlyCharges': 95,\n",
            "                    'TotalCharges': 475,\n",
            "                    'SeniorCitizen': None,\n",
            "                    'gender': None,\n",
            "                    'Is_Married': None,\n",
            "                    'Dependents': None,\n",
            "                    'Phone_Service': None,\n",
            "                    'Dual': None,\n",
            "                    'Internet_Service': 'Fiber optic',\n",
            "                    'Online_Security': None,\n",
            "                    'Online_Backup': None,\n",
            "                    'Device_Protection': None,\n",
            "                    'Tech_Support': None,\n",
            "                    'Streaming_TV': None,\n",
            "                    'Streaming_Movies': None,\n",
            "                    'Contract': 'Month-to-month',\n",
            "                    'Paperless_Billing': None,\n",
            "                    'Payment_Method': 'Electronic check'},\n",
            "         'prediction': {'probability': 0.6524378550074962,\n",
            "                        'label': 'Churn',\n",
            "                        'decision_threshold': 0.25485902895105866,\n",
            "                        'top_factors': [{'feature': 'tenure',\n",
            "                                         'impact': 1.21925805920281},\n",
            "                                        {'feature': 'Contract_Month-to-month',\n",
            "                                         'impact': 1.019926342334432},\n",
            "                                        {'feature': 'MonthlyCharges',\n",
            "                                         'impact': 0.3047214125307944},\n",
            "                                        {'feature': 'Contract_Two year',\n",
            "                                         'impact': 0.29949571520645757},\n",
            "                                        {'feature': 'TotalCharges',\n",
            "                                         'impact': 0.2610789434370053}]}}}\n"
          ]
        }
      ]
    },
    {
      "cell_type": "code",
      "source": [
        "!pip -q install gradio==4.44.0 requests\n",
        "\n",
        "import gradio as gr\n",
        "import requests, json\n",
        "\n",
        "BASE = \"http://127.0.0.1:8000\"\n",
        "\n",
        "# ——— helpers ———\n",
        "def get_schema():\n",
        "    try:\n",
        "        r = requests.get(f\"{BASE}/schema\", timeout=5)\n",
        "        r.raise_for_status()\n",
        "        return r.json()\n",
        "    except Exception as e:\n",
        "        return []\n",
        "\n",
        "SCHEMA = get_schema()\n",
        "\n",
        "def find_key(part):\n",
        "    p = part.lower()\n",
        "    for s in SCHEMA:\n",
        "        if p in s[\"name\"].lower():\n",
        "            return s[\"name\"]\n",
        "    return None\n",
        "\n",
        "def allowed(name):\n",
        "    for s in SCHEMA:\n",
        "        if s[\"name\"] == name:\n",
        "            return s.get(\"allowed\", [])\n",
        "    return []\n",
        "\n",
        "K_TENURE   = find_key(\"tenure\")\n",
        "K_MONTHLY  = find_key(\"monthly\")\n",
        "K_CONTRACT = find_key(\"contract\")\n",
        "K_INTERNET = find_key(\"internet\")\n",
        "K_PAYMENT  = find_key(\"payment\")\n",
        "\n",
        "CONTRACT_CHOICES = allowed(K_CONTRACT) or [\"Month-to-month\",\"One year\",\"Two year\"]\n",
        "INTERNET_CHOICES = allowed(K_INTERNET) or [\"Fiber optic\",\"DSL\",\"No\"]\n",
        "PAYMENT_CHOICES  = allowed(K_PAYMENT)  or [\"Electronic check\",\"Mailed check\",\"Bank transfer (automatic)\",\"Credit card (automatic)\"]\n",
        "\n",
        "def payload_base():\n",
        "    \"\"\"Start with empty payload; fill what user provides.\"\"\"\n",
        "    return {}\n",
        "\n",
        "# ——— backend calls ———\n",
        "def call_predict(tenure, monthly, contract, internet, payment, extra_json):\n",
        "    try:\n",
        "        payload = payload_base()\n",
        "        if K_TENURE and tenure is not None: payload[K_TENURE] = float(tenure)\n",
        "        if K_MONTHLY and monthly is not None: payload[K_MONTHLY] = float(monthly)\n",
        "        if K_CONTRACT and contract: payload[K_CONTRACT] = contract\n",
        "        if K_INTERNET and internet: payload[K_INTERNET] = internet\n",
        "        if K_PAYMENT and payment: payload[K_PAYMENT] = payment\n",
        "\n",
        "        if extra_json.strip():\n",
        "            try:\n",
        "                extra = json.loads(extra_json)\n",
        "                if isinstance(extra, dict):\n",
        "                    payload.update(extra)\n",
        "            except Exception as e:\n",
        "                return {\"error\": f\"extra_json parse error: {e}\"}\n",
        "\n",
        "        r = requests.post(f\"{BASE}/predict\", json=payload, timeout=15)\n",
        "        return r.json()\n",
        "    except Exception as e:\n",
        "        return {\"error\": repr(e)}\n",
        "\n",
        "def call_chat(message):\n",
        "    try:\n",
        "        r = requests.post(f\"{BASE}/chat\", json={\"text\": message}, timeout=30)\n",
        "        return r.json()\n",
        "    except Exception as e:\n",
        "        return {\"error\": repr(e)}\n",
        "\n",
        "# ——— UI ———\n",
        "with gr.Blocks(theme=\"gradio/soft\") as demo:\n",
        "    gr.Markdown(\"# 📉 Telco Churn — Demo UI (Gradio)\")\n",
        "    with gr.Row():\n",
        "        health_btn = gr.Button(\"Ping API /healthz\")\n",
        "        health_out = gr.Textbox(label=\"Health\", interactive=False)\n",
        "    def ping():\n",
        "        try:\n",
        "            return requests.get(f\"{BASE}/healthz\", timeout=5).text\n",
        "        except Exception as e:\n",
        "            return f\"ERROR: {e}\"\n",
        "    health_btn.click(ping, outputs=health_out)\n",
        "\n",
        "    with gr.Tab(\"💬 Chat (natural language)\"):\n",
        "        chat_in = gr.Textbox(label=\"Describe the customer\", placeholder=\"e.g., Month-to-month, fiber optic, electronic check, ~$95 monthly, tenure 2 months.\")\n",
        "        chat_btn = gr.Button(\"Get Risk\")\n",
        "        chat_out = gr.JSON(label=\"Response\")\n",
        "        chat_btn.click(call_chat, inputs=chat_in, outputs=chat_out)\n",
        "\n",
        "    with gr.Tab(\"🧮 Predict (structured)\"):\n",
        "        with gr.Row():\n",
        "            tenure   = gr.Number(label=K_TENURE or \"tenure\", value=2, precision=0)\n",
        "            monthly  = gr.Number(label=K_MONTHLY or \"MonthlyCharges\", value=95)\n",
        "        with gr.Row():\n",
        "            contract = gr.Dropdown(CONTRACT_CHOICES, value=CONTRACT_CHOICES[0], label=K_CONTRACT or \"Contract\")\n",
        "            internet = gr.Dropdown(INTERNET_CHOICES, value=INTERNET_CHOICES[0], label=K_INTERNET or \"Internet_Service\")\n",
        "            payment  = gr.Dropdown(PAYMENT_CHOICES, value=PAYMENT_CHOICES[0], label=K_PAYMENT or \"Payment_Method\")\n",
        "        extra_json = gr.Textbox(label=\"(Optional) Extra JSON fields to include\", placeholder='{\"SeniorCitizen\": 0, \"Paperless_Billing\": \"Yes\"}')\n",
        "        pred_btn = gr.Button(\"Predict\")\n",
        "        pred_out = gr.JSON(label=\"Prediction\")\n",
        "        pred_btn.click(call_predict, inputs=[tenure, monthly, contract, internet, payment, extra_json], outputs=pred_out)\n",
        "\n",
        "demo.launch(share=True)\n"
      ],
      "metadata": {
        "colab": {
          "base_uri": "https://localhost:8080/",
          "height": 814,
          "referenced_widgets": [
            "decd08e04b8c44bcbc3c8f20e711bd02",
            "60e2dd1a0f5344ccabb86b4d364761c9",
            "2798ec26e08b4863af0e29a5de806d34",
            "37a4135b55ce474f89b601033245bc67",
            "feb887d16d4749a48c43e26ad8579e7e",
            "f10363a847c147bcbfd14b3401d39fd7",
            "b5c7f34b1e9d452682146ab420b8a161",
            "f103d8b3c4fa41dbae7322f3695e1691",
            "ec9fd7b6bec745f6a584ad877c4493cd",
            "b0aa07b631ad4de99e4dbb3d5bfb72a6",
            "1a85451aae924c439a3bf19eb0f59b52"
          ]
        },
        "id": "FnPW6VJ28taD",
        "outputId": "05723e89-6ae4-4b67-a0fe-4310540162d1"
      },
      "execution_count": 12,
      "outputs": [
        {
          "output_type": "stream",
          "name": "stdout",
          "text": [
            "\u001b[2K   \u001b[90m━━━━━━━━━━━━━━━━━━━━━━━━━━━━━━━━━━━━━━━━\u001b[0m \u001b[32m18.1/18.1 MB\u001b[0m \u001b[31m75.3 MB/s\u001b[0m eta \u001b[36m0:00:00\u001b[0m\n",
            "\u001b[2K   \u001b[90m━━━━━━━━━━━━━━━━━━━━━━━━━━━━━━━━━━━━━━━━\u001b[0m \u001b[32m318.7/318.7 kB\u001b[0m \u001b[31m19.8 MB/s\u001b[0m eta \u001b[36m0:00:00\u001b[0m\n",
            "\u001b[2K   \u001b[90m━━━━━━━━━━━━━━━━━━━━━━━━━━━━━━━━━━━━━━━━\u001b[0m \u001b[32m4.5/4.5 MB\u001b[0m \u001b[31m92.5 MB/s\u001b[0m eta \u001b[36m0:00:00\u001b[0m\n",
            "\u001b[2K   \u001b[90m━━━━━━━━━━━━━━━━━━━━━━━━━━━━━━━━━━━━━━━━\u001b[0m \u001b[32m130.9/130.9 kB\u001b[0m \u001b[31m9.0 MB/s\u001b[0m eta \u001b[36m0:00:00\u001b[0m\n",
            "\u001b[?25h\u001b[31mERROR: pip's dependency resolver does not currently take into account all the packages that are installed. This behaviour is the source of the following dependency conflicts.\n",
            "google-genai 1.29.0 requires websockets<15.1.0,>=13.0.0, but you have websockets 12.0 which is incompatible.\n",
            "yfinance 0.2.65 requires websockets>=13.0, but you have websockets 12.0 which is incompatible.\n",
            "dataproc-spark-connect 0.8.3 requires websockets>=14.0, but you have websockets 12.0 which is incompatible.\u001b[0m\u001b[31m\n",
            "\u001b[0m"
          ]
        },
        {
          "output_type": "display_data",
          "data": {
            "text/plain": [
              "theme_schema%400.0.3.json: 0.00B [00:00, ?B/s]"
            ],
            "application/vnd.jupyter.widget-view+json": {
              "version_major": 2,
              "version_minor": 0,
              "model_id": "decd08e04b8c44bcbc3c8f20e711bd02"
            }
          },
          "metadata": {}
        },
        {
          "output_type": "stream",
          "name": "stdout",
          "text": [
            "Colab notebook detected. To show errors in colab notebook, set debug=True in launch()\n"
          ]
        },
        {
          "output_type": "stream",
          "name": "stderr",
          "text": [
            "/usr/local/lib/python3.11/dist-packages/gradio/analytics.py:106: UserWarning: IMPORTANT: You are using gradio version 4.44.0, however version 4.44.1 is available, please upgrade. \n",
            "--------\n",
            "  warnings.warn(\n"
          ]
        },
        {
          "output_type": "stream",
          "name": "stdout",
          "text": [
            "Running on public URL: https://badce02800e1e6851d.gradio.live\n",
            "\n",
            "This share link expires in 72 hours. For free permanent hosting and GPU upgrades, run `gradio deploy` from Terminal to deploy to Spaces (https://huggingface.co/spaces)\n"
          ]
        },
        {
          "output_type": "display_data",
          "data": {
            "text/plain": [
              "<IPython.core.display.HTML object>"
            ],
            "text/html": [
              "<div><iframe src=\"https://badce02800e1e6851d.gradio.live\" width=\"100%\" height=\"500\" allow=\"autoplay; camera; microphone; clipboard-read; clipboard-write;\" frameborder=\"0\" allowfullscreen></iframe></div>"
            ]
          },
          "metadata": {}
        },
        {
          "output_type": "execute_result",
          "data": {
            "text/plain": []
          },
          "metadata": {},
          "execution_count": 12
        }
      ]
    }
  ]
}